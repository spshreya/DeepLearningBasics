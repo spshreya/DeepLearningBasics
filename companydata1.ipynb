{
  "nbformat": 4,
  "nbformat_minor": 0,
  "metadata": {
    "colab": {
      "name": "companydata1.ipynb",
      "provenance": [],
      "authorship_tag": "ABX9TyPtaKVvvLtCI48pTLcSA24p",
      "include_colab_link": true
    },
    "kernelspec": {
      "name": "python3",
      "display_name": "Python 3"
    }
  },
  "cells": [
    {
      "cell_type": "markdown",
      "metadata": {
        "id": "view-in-github",
        "colab_type": "text"
      },
      "source": [
        "<a href=\"https://colab.research.google.com/github/spshreya/DeepLearningBasics/blob/main/companydata1.ipynb\" target=\"_parent\"><img src=\"https://colab.research.google.com/assets/colab-badge.svg\" alt=\"Open In Colab\"/></a>"
      ]
    },
    {
      "cell_type": "code",
      "metadata": {
        "id": "iIxGHyzCWOMG"
      },
      "source": [
        "import numpy as np\r\n",
        "import pandas as pd"
      ],
      "execution_count": null,
      "outputs": []
    },
    {
      "cell_type": "code",
      "metadata": {
        "id": "jV9EfZlqXNuP"
      },
      "source": [
        "data= pd.read_csv(r\"abc.csv\")"
      ],
      "execution_count": null,
      "outputs": []
    },
    {
      "cell_type": "code",
      "metadata": {
        "id": "cTmk5R_WXq0G"
      },
      "source": [
        "data.head()"
      ],
      "execution_count": null,
      "outputs": []
    },
    {
      "cell_type": "code",
      "metadata": {
        "colab": {
          "base_uri": "https://localhost:8080/"
        },
        "id": "NLmjW2ccXvlk",
        "outputId": "17080896-e117-4bd5-f635-36a91c064aa3"
      },
      "source": [
        "data.info()"
      ],
      "execution_count": null,
      "outputs": [
        {
          "output_type": "stream",
          "text": [
            "<class 'pandas.core.frame.DataFrame'>\n",
            "RangeIndex: 3419 entries, 0 to 3418\n",
            "Columns: 124 entries, Organization Name to Unnamed: 123\n",
            "dtypes: float64(23), object(101)\n",
            "memory usage: 3.2+ MB\n"
          ],
          "name": "stdout"
        }
      ]
    },
    {
      "cell_type": "code",
      "metadata": {
        "colab": {
          "base_uri": "https://localhost:8080/"
        },
        "id": "IV8vrprPZAnA",
        "outputId": "7f05ccbf-11ec-4665-bac5-23972acce125"
      },
      "source": [
        "data['IPO Status'].value_counts()"
      ],
      "execution_count": null,
      "outputs": [
        {
          "output_type": "execute_result",
          "data": {
            "text/plain": [
              "Private     3067\n",
              "Public       218\n",
              "Delisted      29\n",
              "Name: IPO Status, dtype: int64"
            ]
          },
          "metadata": {
            "tags": []
          },
          "execution_count": 8
        }
      ]
    },
    {
      "cell_type": "code",
      "metadata": {
        "id": "ezVN-VnXcHHF"
      },
      "source": [
        "dataa=data.fillna(0)"
      ],
      "execution_count": null,
      "outputs": []
    },
    {
      "cell_type": "code",
      "metadata": {
        "id": "jYuVWJNVefig"
      },
      "source": [
        "from sklearn.preprocessing import LabelEncoder\r\n",
        "le = LabelEncoder()"
      ],
      "execution_count": null,
      "outputs": []
    },
    {
      "cell_type": "code",
      "metadata": {
        "id": "0-RErOrDfnm9"
      },
      "source": [
        "dataa[\"Funding Status\"] = le.fit_transform(data[\"Funding Status\"].astype(str))\r\n",
        "dataa[\"Number of Founders\"] = le.fit_transform(data[\"Number of Founders\"].astype(str))\r\n",
        "dataa[\"Number of Employees\"] = le.fit_transform(data[\"Number of Employees\"].astype(str))\r\n",
        "dataa[\"Last Funding Type\"] = le.fit_transform(data[\"Last Funding Type\"].astype(str))\r\n",
        "dataa[\"Last Equity Funding Type\"] = le.fit_transform(data[\"Last Equity Funding Type\"].astype(str))\r\n",
        "dataa[\"Last Equity Funding Amount Currency\"] = le.fit_transform(data[\"Last Equity Funding Amount Currency\"].astype(str))\r\n",
        "dataa[\"Last Equity Funding Amount Currency (in USD)\"] = le.fit_transform(data[\"Last Equity Funding Amount Currency (in USD)\"].astype(str))\r\n",
        "dataa[\"Total Funding Amount Currency (in USD)\"] = le.fit_transform(data[\"Total Funding Amount Currency (in USD)\"].astype(str))\r\n",
        "dataa[\"Number of Lead Investors\"] = le.fit_transform(data[\"Number of Lead Investors\"].astype(str))\r\n",
        "dataa[\"Number of Investors\"] = le.fit_transform(data[\"Number of Investors\"].astype(str))\r\n",
        "dataa[\"Number of Acquisitions\"] = le.fit_transform(data[\"Number of Acquisitions\"].astype(str))\r\n",
        "dataa[\"IPO Status\"] = le.fit_transform(data[\"IPO Status\"].astype(str))"
      ],
      "execution_count": null,
      "outputs": []
    },
    {
      "cell_type": "code",
      "metadata": {
        "colab": {
          "base_uri": "https://localhost:8080/"
        },
        "id": "zaYI0BxlgLjC",
        "outputId": "9fe57f80-60b1-4721-d059-b892f1f38ce7"
      },
      "source": [
        "dataa[\"Last Equity Funding Type\"].head()"
      ],
      "execution_count": null,
      "outputs": [
        {
          "output_type": "execute_result",
          "data": {
            "text/plain": [
              "0    17\n",
              "1     9\n",
              "2    12\n",
              "3    13\n",
              "4     8\n",
              "Name: Last Equity Funding Type, dtype: int64"
            ]
          },
          "metadata": {
            "tags": []
          },
          "execution_count": 12
        }
      ]
    },
    {
      "cell_type": "code",
      "metadata": {
        "id": "nzj8N0wXkfhh"
      },
      "source": [
        "x = dataa[[\"Funding Status\",\"Number of Founders\",\"Number of Employees\",\"Last Funding Type\",\"Last Equity Funding Type\",\"Last Equity Funding Amount Currency\",\"Last Equity Funding Amount Currency (in USD)\",\"Total Funding Amount Currency (in USD)\",\"Number of Lead Investors\",\"Number of Investors\",\"Number of Acquisitions\"]]"
      ],
      "execution_count": null,
      "outputs": []
    },
    {
      "cell_type": "code",
      "metadata": {
        "id": "BwM47Oo4lRfi"
      },
      "source": [
        "x.head()"
      ],
      "execution_count": null,
      "outputs": []
    },
    {
      "cell_type": "code",
      "metadata": {
        "id": "a5iO7952l3_Z"
      },
      "source": [
        "y = dataa.loc[:, dataa.columns == 'IPO Status']\r\n",
        "y.head()"
      ],
      "execution_count": null,
      "outputs": []
    },
    {
      "cell_type": "code",
      "metadata": {
        "id": "RSwyTDpTmIK_"
      },
      "source": [
        "from sklearn.model_selection import train_test_split\r\n",
        "x_train, x_test, y_train, y_test = train_test_split(x, y, test_size = 0.20)"
      ],
      "execution_count": null,
      "outputs": []
    },
    {
      "cell_type": "code",
      "metadata": {
        "colab": {
          "base_uri": "https://localhost:8080/"
        },
        "id": "d24IScyCwjZl",
        "outputId": "4dac7d15-f20b-4974-a5b5-5c01c6905eee"
      },
      "source": [
        "y_train = np.asarray(y_train).reshape((-1,1))\r\n",
        "y_test = np.asarray(y_test).reshape((-1,1))\r\n",
        "y_train"
      ],
      "execution_count": null,
      "outputs": [
        {
          "output_type": "execute_result",
          "data": {
            "text/plain": [
              "array([[1],\n",
              "       [0],\n",
              "       [1],\n",
              "       ...,\n",
              "       [1],\n",
              "       [1],\n",
              "       [1]])"
            ]
          },
          "metadata": {
            "tags": []
          },
          "execution_count": 18
        }
      ]
    },
    {
      "cell_type": "code",
      "metadata": {
        "id": "ykCIFKXGmP3W"
      },
      "source": [
        "from sklearn.preprocessing import StandardScaler\r\n",
        "scaler = StandardScaler()\r\n",
        "scaler.fit(x_train)\r\n",
        "StandardScaler(copy=True, with_mean=True, with_std=True)\r\n",
        "x_train = scaler.transform(x_train)\r\n",
        "x_test = scaler.transform(x_test)"
      ],
      "execution_count": null,
      "outputs": []
    },
    {
      "cell_type": "code",
      "metadata": {
        "id": "j8YiWXEPncpE"
      },
      "source": [
        "import tensorflow as tf\r\n",
        "from tensorflow.keras.callbacks import ModelCheckpoint"
      ],
      "execution_count": null,
      "outputs": []
    },
    {
      "cell_type": "code",
      "metadata": {
        "id": "nT4kviKzn15o"
      },
      "source": [
        "from sklearn.preprocessing import OneHotEncoder\r\n",
        "ohe = OneHotEncoder()\r\n",
        "y_train = ohe.fit_transform(y_train).toarray()\r\n",
        "y_test = ohe.fit_transform(y_test).toarray()"
      ],
      "execution_count": null,
      "outputs": []
    },
    {
      "cell_type": "code",
      "metadata": {
        "colab": {
          "base_uri": "https://localhost:8080/"
        },
        "id": "zB6uV39GtqBS",
        "outputId": "ce79a5cd-10b2-47f0-9086-57ee259cba90"
      },
      "source": [
        "len(y_train)"
      ],
      "execution_count": null,
      "outputs": [
        {
          "output_type": "execute_result",
          "data": {
            "text/plain": [
              "2735"
            ]
          },
          "metadata": {
            "tags": []
          },
          "execution_count": 22
        }
      ]
    },
    {
      "cell_type": "code",
      "metadata": {
        "colab": {
          "base_uri": "https://localhost:8080/"
        },
        "id": "q9RVjfK3tsFm",
        "outputId": "3cc7e0e8-d262-4f3b-f5ad-49e4c3ad9c02"
      },
      "source": [
        "len(x_train)"
      ],
      "execution_count": null,
      "outputs": [
        {
          "output_type": "execute_result",
          "data": {
            "text/plain": [
              "2735"
            ]
          },
          "metadata": {
            "tags": []
          },
          "execution_count": 23
        }
      ]
    },
    {
      "cell_type": "code",
      "metadata": {
        "colab": {
          "base_uri": "https://localhost:8080/"
        },
        "id": "9dewAbWrqJKG",
        "outputId": "c58eae34-0193-47a2-e690-a37d4a58862f"
      },
      "source": [
        "model = tf.keras.models.Sequential()\r\n",
        "model.add(tf.keras.layers.Flatten())\r\n",
        "model.add(tf.keras.layers.Dense(128, activation= tf.nn.relu))\r\n",
        "model.add(tf.keras.layers.Dense(64, activation= tf.nn.relu))\r\n",
        "model.add(tf.keras.layers.Dense(64, activation= tf.nn.relu))\r\n",
        "model.add(tf.keras.layers.Dense(4, activation= tf.nn.softmax))\r\n",
        "\r\n",
        "model.compile(optimizer = 'adam', loss= 'categorical_crossentropy', metrics = ['accuracy'])\r\n",
        "\r\n",
        "history=model.fit(x_train, y_train, epochs=50, validation_data=(x_test, y_test))"
      ],
      "execution_count": null,
      "outputs": [
        {
          "output_type": "stream",
          "text": [
            "Epoch 1/50\n",
            "86/86 [==============================] - 1s 4ms/step - loss: 0.7353 - accuracy: 0.8008 - val_loss: 0.2814 - val_accuracy: 0.9254\n",
            "Epoch 2/50\n",
            "86/86 [==============================] - 0s 2ms/step - loss: 0.2397 - accuracy: 0.9396 - val_loss: 0.2447 - val_accuracy: 0.9371\n",
            "Epoch 3/50\n",
            "86/86 [==============================] - 0s 2ms/step - loss: 0.2088 - accuracy: 0.9471 - val_loss: 0.2167 - val_accuracy: 0.9386\n",
            "Epoch 4/50\n",
            "86/86 [==============================] - 0s 2ms/step - loss: 0.1957 - accuracy: 0.9455 - val_loss: 0.2152 - val_accuracy: 0.9415\n",
            "Epoch 5/50\n",
            "86/86 [==============================] - 0s 2ms/step - loss: 0.1650 - accuracy: 0.9539 - val_loss: 0.2031 - val_accuracy: 0.9430\n",
            "Epoch 6/50\n",
            "86/86 [==============================] - 0s 2ms/step - loss: 0.1630 - accuracy: 0.9530 - val_loss: 0.1881 - val_accuracy: 0.9488\n",
            "Epoch 7/50\n",
            "86/86 [==============================] - 0s 3ms/step - loss: 0.1621 - accuracy: 0.9547 - val_loss: 0.1869 - val_accuracy: 0.9474\n",
            "Epoch 8/50\n",
            "86/86 [==============================] - 0s 2ms/step - loss: 0.1386 - accuracy: 0.9588 - val_loss: 0.1862 - val_accuracy: 0.9474\n",
            "Epoch 9/50\n",
            "86/86 [==============================] - 0s 2ms/step - loss: 0.1241 - accuracy: 0.9646 - val_loss: 0.1715 - val_accuracy: 0.9503\n",
            "Epoch 10/50\n",
            "86/86 [==============================] - 0s 2ms/step - loss: 0.1458 - accuracy: 0.9573 - val_loss: 0.1673 - val_accuracy: 0.9518\n",
            "Epoch 11/50\n",
            "86/86 [==============================] - 0s 2ms/step - loss: 0.1149 - accuracy: 0.9688 - val_loss: 0.1651 - val_accuracy: 0.9649\n",
            "Epoch 12/50\n",
            "86/86 [==============================] - 0s 2ms/step - loss: 0.1049 - accuracy: 0.9701 - val_loss: 0.1605 - val_accuracy: 0.9635\n",
            "Epoch 13/50\n",
            "86/86 [==============================] - 0s 2ms/step - loss: 0.1162 - accuracy: 0.9672 - val_loss: 0.1577 - val_accuracy: 0.9620\n",
            "Epoch 14/50\n",
            "86/86 [==============================] - 0s 2ms/step - loss: 0.0938 - accuracy: 0.9731 - val_loss: 0.1675 - val_accuracy: 0.9591\n",
            "Epoch 15/50\n",
            "86/86 [==============================] - 0s 2ms/step - loss: 0.1026 - accuracy: 0.9731 - val_loss: 0.1588 - val_accuracy: 0.9649\n",
            "Epoch 16/50\n",
            "86/86 [==============================] - 0s 2ms/step - loss: 0.0914 - accuracy: 0.9771 - val_loss: 0.1658 - val_accuracy: 0.9605\n",
            "Epoch 17/50\n",
            "86/86 [==============================] - 0s 2ms/step - loss: 0.0950 - accuracy: 0.9732 - val_loss: 0.1582 - val_accuracy: 0.9649\n",
            "Epoch 18/50\n",
            "86/86 [==============================] - 0s 2ms/step - loss: 0.0860 - accuracy: 0.9781 - val_loss: 0.1825 - val_accuracy: 0.9561\n",
            "Epoch 19/50\n",
            "86/86 [==============================] - 0s 2ms/step - loss: 0.0996 - accuracy: 0.9763 - val_loss: 0.1712 - val_accuracy: 0.9620\n",
            "Epoch 20/50\n",
            "86/86 [==============================] - 0s 2ms/step - loss: 0.0848 - accuracy: 0.9777 - val_loss: 0.1613 - val_accuracy: 0.9635\n",
            "Epoch 21/50\n",
            "86/86 [==============================] - 0s 2ms/step - loss: 0.0782 - accuracy: 0.9811 - val_loss: 0.1788 - val_accuracy: 0.9620\n",
            "Epoch 22/50\n",
            "86/86 [==============================] - 0s 2ms/step - loss: 0.0905 - accuracy: 0.9781 - val_loss: 0.1683 - val_accuracy: 0.9620\n",
            "Epoch 23/50\n",
            "86/86 [==============================] - 0s 2ms/step - loss: 0.0744 - accuracy: 0.9814 - val_loss: 0.1726 - val_accuracy: 0.9649\n",
            "Epoch 24/50\n",
            "86/86 [==============================] - 0s 2ms/step - loss: 0.0696 - accuracy: 0.9832 - val_loss: 0.1727 - val_accuracy: 0.9649\n",
            "Epoch 25/50\n",
            "86/86 [==============================] - 0s 2ms/step - loss: 0.0922 - accuracy: 0.9769 - val_loss: 0.1862 - val_accuracy: 0.9649\n",
            "Epoch 26/50\n",
            "86/86 [==============================] - 0s 2ms/step - loss: 0.0734 - accuracy: 0.9822 - val_loss: 0.1672 - val_accuracy: 0.9649\n",
            "Epoch 27/50\n",
            "86/86 [==============================] - 0s 2ms/step - loss: 0.0770 - accuracy: 0.9794 - val_loss: 0.1938 - val_accuracy: 0.9620\n",
            "Epoch 28/50\n",
            "86/86 [==============================] - 0s 2ms/step - loss: 0.0796 - accuracy: 0.9821 - val_loss: 0.1787 - val_accuracy: 0.9678\n",
            "Epoch 29/50\n",
            "86/86 [==============================] - 0s 2ms/step - loss: 0.0795 - accuracy: 0.9807 - val_loss: 0.1828 - val_accuracy: 0.9649\n",
            "Epoch 30/50\n",
            "86/86 [==============================] - 0s 2ms/step - loss: 0.0828 - accuracy: 0.9795 - val_loss: 0.1756 - val_accuracy: 0.9605\n",
            "Epoch 31/50\n",
            "86/86 [==============================] - 0s 2ms/step - loss: 0.0832 - accuracy: 0.9773 - val_loss: 0.1805 - val_accuracy: 0.9635\n",
            "Epoch 32/50\n",
            "86/86 [==============================] - 0s 2ms/step - loss: 0.0769 - accuracy: 0.9754 - val_loss: 0.1937 - val_accuracy: 0.9620\n",
            "Epoch 33/50\n",
            "86/86 [==============================] - 0s 2ms/step - loss: 0.0814 - accuracy: 0.9770 - val_loss: 0.2082 - val_accuracy: 0.9576\n",
            "Epoch 34/50\n",
            "86/86 [==============================] - 0s 2ms/step - loss: 0.0712 - accuracy: 0.9796 - val_loss: 0.1955 - val_accuracy: 0.9649\n",
            "Epoch 35/50\n",
            "86/86 [==============================] - 0s 2ms/step - loss: 0.0761 - accuracy: 0.9807 - val_loss: 0.1967 - val_accuracy: 0.9620\n",
            "Epoch 36/50\n",
            "86/86 [==============================] - 0s 2ms/step - loss: 0.0756 - accuracy: 0.9800 - val_loss: 0.2009 - val_accuracy: 0.9635\n",
            "Epoch 37/50\n",
            "86/86 [==============================] - 0s 2ms/step - loss: 0.0793 - accuracy: 0.9797 - val_loss: 0.1942 - val_accuracy: 0.9620\n",
            "Epoch 38/50\n",
            "86/86 [==============================] - 0s 2ms/step - loss: 0.0635 - accuracy: 0.9861 - val_loss: 0.2140 - val_accuracy: 0.9635\n",
            "Epoch 39/50\n",
            "86/86 [==============================] - 0s 3ms/step - loss: 0.0764 - accuracy: 0.9801 - val_loss: 0.1998 - val_accuracy: 0.9620\n",
            "Epoch 40/50\n",
            "86/86 [==============================] - 0s 2ms/step - loss: 0.0943 - accuracy: 0.9750 - val_loss: 0.2118 - val_accuracy: 0.9620\n",
            "Epoch 41/50\n",
            "86/86 [==============================] - 0s 2ms/step - loss: 0.0835 - accuracy: 0.9807 - val_loss: 0.2161 - val_accuracy: 0.9649\n",
            "Epoch 42/50\n",
            "86/86 [==============================] - 0s 2ms/step - loss: 0.0823 - accuracy: 0.9788 - val_loss: 0.2041 - val_accuracy: 0.9649\n",
            "Epoch 43/50\n",
            "86/86 [==============================] - 0s 2ms/step - loss: 0.0686 - accuracy: 0.9817 - val_loss: 0.2019 - val_accuracy: 0.9635\n",
            "Epoch 44/50\n",
            "86/86 [==============================] - 0s 2ms/step - loss: 0.0860 - accuracy: 0.9786 - val_loss: 0.2027 - val_accuracy: 0.9605\n",
            "Epoch 45/50\n",
            "86/86 [==============================] - 0s 2ms/step - loss: 0.0643 - accuracy: 0.9837 - val_loss: 0.1999 - val_accuracy: 0.9635\n",
            "Epoch 46/50\n",
            "86/86 [==============================] - 0s 2ms/step - loss: 0.0598 - accuracy: 0.9859 - val_loss: 0.2004 - val_accuracy: 0.9620\n",
            "Epoch 47/50\n",
            "86/86 [==============================] - 0s 2ms/step - loss: 0.0755 - accuracy: 0.9798 - val_loss: 0.2303 - val_accuracy: 0.9591\n",
            "Epoch 48/50\n",
            "86/86 [==============================] - 0s 2ms/step - loss: 0.0601 - accuracy: 0.9835 - val_loss: 0.2070 - val_accuracy: 0.9649\n",
            "Epoch 49/50\n",
            "86/86 [==============================] - 0s 2ms/step - loss: 0.0713 - accuracy: 0.9825 - val_loss: 0.2026 - val_accuracy: 0.9605\n",
            "Epoch 50/50\n",
            "86/86 [==============================] - 0s 2ms/step - loss: 0.0662 - accuracy: 0.9822 - val_loss: 0.2129 - val_accuracy: 0.9620\n"
          ],
          "name": "stdout"
        }
      ]
    },
    {
      "cell_type": "code",
      "metadata": {
        "id": "Di8lx9OEqk6v",
        "colab": {
          "base_uri": "https://localhost:8080/"
        },
        "outputId": "1a24412b-a310-4bd5-a9d0-4c2fed9a3ef3"
      },
      "source": [
        "model.summary()"
      ],
      "execution_count": null,
      "outputs": [
        {
          "output_type": "stream",
          "text": [
            "Model: \"sequential_1\"\n",
            "_________________________________________________________________\n",
            "Layer (type)                 Output Shape              Param #   \n",
            "=================================================================\n",
            "flatten_1 (Flatten)          (None, 11)                0         \n",
            "_________________________________________________________________\n",
            "dense_4 (Dense)              (None, 128)               1536      \n",
            "_________________________________________________________________\n",
            "dense_5 (Dense)              (None, 64)                8256      \n",
            "_________________________________________________________________\n",
            "dense_6 (Dense)              (None, 64)                4160      \n",
            "_________________________________________________________________\n",
            "dense_7 (Dense)              (None, 4)                 260       \n",
            "=================================================================\n",
            "Total params: 14,212\n",
            "Trainable params: 14,212\n",
            "Non-trainable params: 0\n",
            "_________________________________________________________________\n"
          ],
          "name": "stdout"
        }
      ]
    },
    {
      "cell_type": "code",
      "metadata": {
        "id": "VJ5gsPvVyi5H",
        "colab": {
          "base_uri": "https://localhost:8080/"
        },
        "outputId": "c95d1d0a-eec9-4ec1-a0b1-380199687e53"
      },
      "source": [
        "val_loss, val_accuracy = model.evaluate(x_test, y_test)\r\n",
        "print(val_loss, val_accuracy)"
      ],
      "execution_count": null,
      "outputs": [
        {
          "output_type": "stream",
          "text": [
            "22/22 [==============================] - 0s 1ms/step - loss: 0.2129 - accuracy: 0.9620\n",
            "0.2129068225622177 0.9619883298873901\n"
          ],
          "name": "stdout"
        }
      ]
    },
    {
      "cell_type": "code",
      "metadata": {
        "colab": {
          "base_uri": "https://localhost:8080/",
          "height": 295
        },
        "id": "pIjh7aakzdaG",
        "outputId": "2e3cca6b-cbd1-4dcd-8387-c4b12a7eced6"
      },
      "source": [
        "\r\n",
        "import matplotlib.pyplot as plt\r\n",
        "plt.plot(history.history['accuracy'])\r\n",
        "plt.plot(history.history['val_accuracy'])\r\n",
        "plt.title('Model accuracy')\r\n",
        "plt.ylabel('Accuracy')\r\n",
        "plt.xlabel('Epoch')\r\n",
        "plt.legend(['Train', 'Test'], loc='upper left')\r\n",
        "plt.show()"
      ],
      "execution_count": null,
      "outputs": [
        {
          "output_type": "display_data",
          "data": {
            "image/png": "[encoded data removed]",
            "text/plain": [
              "<Figure size 432x288 with 1 Axes>"
            ]
          },
          "metadata": {
            "tags": [],
            "needs_background": "light"
          }
        }
      ]
    },
    {
      "cell_type": "code",
      "metadata": {
        "id": "l4VeLCM40pVy"
      },
      "source": [
        "plt.plot(history.history['loss'])\r\n",
        "plt.plot(history.history['val_loss'])\r\n",
        "plt.title('Model loss')\r\n",
        "plt.ylabel('Loss')\r\n",
        "plt.xlabel('Epoch')\r\n",
        "plt.legend(['Train', 'Test'], loc='upper left')\r\n",
        "plt.show()"
      ],
      "execution_count": null,
      "outputs": []
    }
  ]
}